{
  "cells": [
    {
      "cell_type": "markdown",
      "metadata": {
        "id": "gYMtReqyRybc"
      },
      "source": [
        "## Python I Training\n",
        "### Introduction to Python"
      ]
    },
    {
      "cell_type": "markdown",
      "metadata": {
        "id": "kQVHchJ3SDfB"
      },
      "source": [
        "This training session introduces the fundamental concepts, common data structures, and packages necessary to get started with using Python for data analysis. <br><br>\n",
        "<strong><span style=\"color: #ff0000;\">NOTE</span>:</strong> **This training session is conducted on Google Colab. The instructions below assume that you are viewing this notebook directly on Colab.**<br><br>\n",
        "[![Open In Colab](https://colab.research.google.com/assets/colab-badge.svg)](https://colab.research.google.com/github/citl-data/training_session_data/blob/master/Python_I_training.ipynb)<br><br>\n",
        "If you wish to use this notebook locally, ensure that you are running at least Python 3.11 and all the necessary package dependencies are met. **You can skip some of the setup code cells that are marked \"Colab Only\" at the beginning of the cell.** You may also need to modify the path to the dataset file to the appropriate location on your local machine.<br><br>"
      ]
    },
    {
      "cell_type": "markdown",
      "metadata": {
        "id": "gCRkX7PoQtRr"
      },
      "source": [
        "**Jupyter Notebooks**\n",
        "\n",
        "Earlier called the IPython notebook (hence the `.ipynb` extension), Jupyter notebooks are an open-source web application that allows you to create and share documents that contain live code, equations, visualizations, and narrative text. They are widely used for data cleaning and transformation, numerical simulation, statistical modeling, data visualization, machine learning, etc.\n",
        "\n",
        "**Google Colaboratory** (Colab in short) is built on top of Jupyter notebooks and has added functionalities that are found in more conventional IDEs like PyCharm, RStudio, Spyder, etc.\n",
        "\n",
        "Colab is entirely cloud-based and the free-tier even allows for some free GPU and TPU processing capabilities. Additionally, it can connect with your Google Drive storage for accessing and storing data.\n",
        "\n",
        "In case you want to install Python and Jupyter notebooks on your local machine, [follow this](https://docs.anaconda.com/free/anaconda/install/index.html)"
      ]
    },
    {
      "cell_type": "markdown",
      "metadata": {
        "id": "BhuuoL_7U0N6"
      },
      "source": [
        "**Common shortcuts**\n",
        "\n",
        "Jupyter Notebook cells have 2 modes, 'Command' and 'Edit'.\n",
        "\n",
        "To switch from command to edit mode press `Enter`. To switch from edit to command mode press `Esc`.\n",
        "\n",
        "Execute cell: `Ctrl+Enter`\n",
        "Execute cell and move to next cell: `Shift+Enter` (This will add a new cell below if none exists)\n",
        "Execute cell and add new cell below: `Alt+Enter`\n",
        "\n",
        "In command mode:\n",
        "- insert cell above: `a`\n",
        "- insert cell below: `b`\n",
        "- change cell type to Markdown: `m` (`Ctrl+mm` in Colab)\n",
        "- change cell type to code: `y` (`Ctrl+my` in Colab)\n",
        "- delete cell: `dd` (`Ctrl+md` in Colab)"
      ]
    },
    {
      "cell_type": "markdown",
      "metadata": {
        "id": "27KI5ef-n7H3"
      },
      "source": [
        "### Setup\n",
        "Run the cell below to mount your Google Drive folder and create a copy of the workshop materials. You will need to provide permission to Colab for accessing your Drive."
      ]
    },
    {
      "cell_type": "code",
      "execution_count": null,
      "metadata": {
        "id": "RkYoMNOynO66"
      },
      "outputs": [],
      "source": [
        "### Colab Only ###\n",
        "\n",
        "from google.colab import drive\n",
        "drive.mount('/gdrive', force_remount=True)"
      ]
    },
    {
      "cell_type": "markdown",
      "metadata": {
        "id": "X01lDysTX8cl"
      },
      "source": [
        "**Magic Commands**\n",
        "\n",
        "Jupyter notebooks allow you to execute certain operations outside of the Python environment. Often, we might need to directly access the system terminal for installing new packages and make other changes outside the environment. These are called magic commands and begin with `!`.\n",
        "\n",
        "You can even turn an entire cell to access an outside environment by specifying it with the `%%` in the first line. Every subsequent command within the cell will refer to the external environment and not Python (without using `!`). Here, we are going to use the `bash` shell to download the dataset used for this workshop and save it in your Drive folder."
      ]
    },
    {
      "cell_type": "code",
      "execution_count": null,
      "metadata": {
        "id": "ChOojQp-ZtY1"
      },
      "outputs": [],
      "source": [
        "### Colab only###\n",
        "\n",
        "%%bash\n",
        "mkdir /gdrive/MyDrive/Colab\\ Notebooks/pyworkshop # Creates new folder called pyworkshop\n",
        "ls /gdrive/MyDrive/Colab\\ Notebooks/ -l # Check if the new folder was created"
      ]
    },
    {
      "cell_type": "markdown",
      "metadata": {},
      "source": [
        "Dowoad a copy of the dataset file used for this training session."
      ]
    },
    {
      "cell_type": "code",
      "execution_count": null,
      "metadata": {},
      "outputs": [],
      "source": [
        "import requests\n",
        "import os\n",
        "\n",
        "url = 'https://raw.githubusercontent.com/citl-data/training_session_data/master/GSS2018.csv'\n",
        "target_dir = 'gdrive/MyDrive/Colab\\ Notebooks/pyworkshop' # Modify path if runnning locally\n",
        "file_path = os.path.join(target_dir, 'GSS2018.csv')\n",
        "\n",
        "response = requests.get(url)\n",
        "with open(file_path, 'wb') as f:\n",
        "    f.write(response.content)"
      ]
    },
    {
      "cell_type": "markdown",
      "metadata": {
        "id": "OEHlit8y0M00"
      },
      "source": [
        "### Python Fundamentals\n",
        "This section provides a broad overview of basic commands and operations in Python."
      ]
    },
    {
      "cell_type": "markdown",
      "metadata": {
        "id": "-8YZZgtIYt7T"
      },
      "source": [
        "#### Variables\n",
        "Variables are created in Python by typing the variable name and assigning a value to it using the `=` operator."
      ]
    },
    {
      "cell_type": "code",
      "execution_count": null,
      "metadata": {
        "id": "iis4gkGH0h2N"
      },
      "outputs": [],
      "source": [
        "a = 10\n",
        "b = 15"
      ]
    },
    {
      "cell_type": "markdown",
      "metadata": {
        "id": "n8UUAL6Dacuq"
      },
      "source": [
        "Here, we created 2 different variables `a` and `b`, and assigned the values `10` and `15` respectively.\n",
        "\n",
        "We can see the values by either typing the variable in the last line of the cell or using the print command."
      ]
    },
    {
      "cell_type": "code",
      "execution_count": null,
      "metadata": {
        "id": "J-dTSqe3bUJ7"
      },
      "outputs": [],
      "source": [
        "print(a)\n",
        "b"
      ]
    },
    {
      "cell_type": "markdown",
      "metadata": {
        "id": "qi_4WNClbkXI"
      },
      "source": [
        "**Important:** Python is case-sensitive. Variable names **must** begin with an alphabet (`a`-`z`,`A`-`Z`), digit (`0`-`9`), or underscore (`_`)."
      ]
    },
    {
      "cell_type": "code",
      "execution_count": null,
      "metadata": {
        "id": "qNA9SOLKcrGg"
      },
      "outputs": [],
      "source": [
        "A = 12\n",
        "\n",
        "print(A)\n",
        "print(a)"
      ]
    },
    {
      "cell_type": "markdown",
      "metadata": {
        "id": "LFvBWAEcc_V2"
      },
      "source": [
        "You can see that Python treats lowercase `a` and uppercase `A` as separate variables."
      ]
    },
    {
      "cell_type": "code",
      "execution_count": null,
      "metadata": {
        "id": "3tNzaB_cddLT"
      },
      "outputs": [],
      "source": [
        "# This will throw up an error as the variable name is invalid\n",
        "\n",
        "$cream = 1"
      ]
    },
    {
      "cell_type": "markdown",
      "metadata": {
        "id": "xJU9GDy4p0NG"
      },
      "source": [
        "***Advanced tip***: Multiple variables can be declared in a single line by separating the names and values with `,`. Try it out in the cell below!\n",
        "\n",
        "a,b = 10,15"
      ]
    },
    {
      "cell_type": "code",
      "execution_count": null,
      "metadata": {
        "id": "0rumzQDkeB17"
      },
      "outputs": [],
      "source": [
        "## Practice creating your own variables ##\n",
        "a,b = 10,15\n"
      ]
    },
    {
      "cell_type": "markdown",
      "metadata": {
        "id": "Xsn1EZNUeYW4"
      },
      "source": [
        "#### Printing text\n",
        "The print() function is used to display text on screen"
      ]
    },
    {
      "cell_type": "code",
      "execution_count": null,
      "metadata": {
        "id": "mT3MW80UervC"
      },
      "outputs": [],
      "source": [
        "mystring1 = 'Python'\n",
        "mystring2 = 'is fun!'\n",
        "# We declared two variables containing texts\n",
        "\n",
        "# Now, we can display them\n",
        "\n",
        "print(mystring1)\n",
        "print(mystring2)"
      ]
    },
    {
      "cell_type": "markdown",
      "metadata": {
        "id": "-x_guq5gfomd"
      },
      "source": [
        "But we don't need to create separate variables for printing texts. We can print them directly."
      ]
    },
    {
      "cell_type": "code",
      "execution_count": null,
      "metadata": {
        "id": "-I26h-0ef7Ir"
      },
      "outputs": [],
      "source": [
        "print('Python is fun!')"
      ]
    },
    {
      "cell_type": "markdown",
      "metadata": {
        "id": "CPcGBMRggHta"
      },
      "source": [
        "We can also join multiple string variables and additional text together within the print statement using the `+` operator."
      ]
    },
    {
      "cell_type": "code",
      "execution_count": null,
      "metadata": {
        "id": "IeghbFcxgkrt"
      },
      "outputs": [],
      "source": [
        "print(mystring1+mystring2)\n",
        "\n",
        "# Notice that a space will be missing between 'Python' and 'is'\n",
        "# So, we can manually add a space between the two variables in the print command\n",
        "\n",
        "print(mystring1+' '+mystring2)"
      ]
    },
    {
      "cell_type": "markdown",
      "metadata": {
        "id": "PHQ9O1Ifh0EK"
      },
      "source": [
        "#### Whitespace and indentation\n",
        "\n",
        "Python ignores blank lines during execution. This is useful for improving readability by grouping together parts of a code.\n",
        "\n",
        "While whitespace within a line is ignored as well, it may be necessary while executing a Python program from the terminal to separate key words and arguments. Adding whitespace between characters of variables names and values will also throw up an error."
      ]
    },
    {
      "cell_type": "code",
      "execution_count": null,
      "metadata": {
        "id": "biua-Ejvij-E"
      },
      "outputs": [],
      "source": [
        "a  =  10\n",
        "print(a)\n",
        "\n",
        "b  =    15\n",
        "print  (b)"
      ]
    },
    {
      "cell_type": "markdown",
      "metadata": {
        "id": "65ekC8YPjCMg"
      },
      "source": [
        "**Indentation**\n",
        "\n",
        "While indentation is cosmetic for most other popular languages, Python takes indentation **very seriously**.\n",
        "\n",
        "It is usually implemented by using `Tab`. Related lines of code are grouped together, which together form a **code block**. Each line in a code block must have the same amount of whitespace before it.\n",
        "\n",
        "We can also use `Space` for indentation, however, it is not recommended.\n",
        "\n",
        "Generally, code blocks can be nested within one another. Indentation allows for separating nested code blocks. In many other languages, code blocks are demarcated by `{` and `}`. But Python uses the `:` sign to demarcate the beginning of a code block. Every line after that must be indented by at least one Tab (or space).\n",
        "\n",
        "Similarly, there should be no whitespace before a line in the topmost level."
      ]
    },
    {
      "cell_type": "code",
      "execution_count": null,
      "metadata": {
        "id": "8dVgDXFfnlgF"
      },
      "outputs": [],
      "source": [
        "# This will throw up an error\n",
        " x =         1\n",
        "y = 2"
      ]
    },
    {
      "cell_type": "code",
      "execution_count": null,
      "metadata": {
        "id": "X4cE3zwczN1Y"
      },
      "outputs": [],
      "source": [
        "# We check if variable a exists. Note the indentation before the print statement\n",
        "if a:\n",
        "  print('a exists')\n",
        "\n",
        "# Now see what happens when you remove the indent for the print statement"
      ]
    },
    {
      "cell_type": "markdown",
      "metadata": {
        "id": "kN27dXlr04fz"
      },
      "source": [
        "#### Comments\n"
      ]
    },
    {
      "cell_type": "markdown",
      "metadata": {
        "id": "4favM80R6l55"
      },
      "source": [
        "Single line comments are created using the `#` sign. It can be placed anywhere **in a line**. However, any text that appears after the sign will be treated as a comment in the same line.\n",
        "\n",
        "If a function or a datatype requires a specific character to close out the line and a `#` sign is placed before it in the same line, it will throw an error."
      ]
    },
    {
      "cell_type": "code",
      "execution_count": null,
      "metadata": {
        "id": "bWGxS4YO8nW3"
      },
      "outputs": [],
      "source": [
        "# This is a comment\n",
        "\n",
        "3 + 2 # This is another comment"
      ]
    },
    {
      "cell_type": "code",
      "execution_count": null,
      "metadata": {
        "id": "V5FwGSI98rpD"
      },
      "outputs": [],
      "source": [
        "# This cell will throw an error\n",
        "\n",
        "mylist = [1, 2, # comment]"
      ]
    },
    {
      "cell_type": "code",
      "execution_count": null,
      "metadata": {
        "id": "VMDsbUxK9SNk"
      },
      "outputs": [],
      "source": [
        "# However, this won't\n",
        "\n",
        "mylist = [1, 2, # comment\n",
        "          ]\n",
        "# This is because the list variable is closed on a different line than the comment"
      ]
    },
    {
      "cell_type": "markdown",
      "metadata": {
        "id": "h48S5-Ch-VFg"
      },
      "source": [
        "There is way to comment out multiple lines at the same time by enclosing them within triple quotes `'''`.\n",
        "\n",
        "But be careful when using **this method as it is sensitve to indentation**. This is because Python treats all the lines as a multi-line string, even though it is not used for anything else in the program."
      ]
    },
    {
      "cell_type": "code",
      "execution_count": null,
      "metadata": {
        "id": "RK3e_P1R_EhZ"
      },
      "outputs": [],
      "source": [
        "'''''if A:\n",
        "  print('A exists')\n",
        "  This will work fine'''''\n",
        "\n",
        "if a:\n",
        "  print('a exists')"
      ]
    },
    {
      "cell_type": "code",
      "execution_count": null,
      "metadata": {
        "id": "aMqTJD4ZA00e"
      },
      "outputs": [],
      "source": [
        "if a:\n",
        "'''But\n",
        "this won't'''\n",
        "  print('a exists')"
      ]
    },
    {
      "cell_type": "markdown",
      "metadata": {
        "id": "Arg8VwBYBLfH"
      },
      "source": [
        "***Advanced tip:*** Instead of using `'''` for multi-line commenting, Jupyter notebook (including Colab) allows for quickly commenting out multiple lines at once using `#`.\n",
        "\n",
        "Select the lines to be commented out and press `Ctrl + /`. To uncomment, select and press the shortcut again."
      ]
    },
    {
      "cell_type": "code",
      "execution_count": null,
      "metadata": {
        "id": "Kx0sqcDrCUng"
      },
      "outputs": [],
      "source": [
        "# Try commenting out multiple lines at once here\n",
        "\n",
        "if A:\n",
        "  print('A exists')\n",
        "\n",
        "if a:\n",
        "  print('a exists')"
      ]
    },
    {
      "cell_type": "markdown",
      "metadata": {
        "id": "Qr5TAo5Mps94"
      },
      "source": [
        "### Data Types and Operators\n",
        "\n",
        "This section covers the common Python data types, conversions, and operations."
      ]
    },
    {
      "cell_type": "markdown",
      "metadata": {
        "id": "4l21mgwIFKT6"
      },
      "source": [
        "#### Numeric Types\n",
        "\n",
        "There are two numeric types in Python:\n",
        "- `int` for integers\n",
        "- `float` for decimals\n",
        "\n",
        "The **type** function can display a variable's data type."
      ]
    },
    {
      "cell_type": "code",
      "execution_count": null,
      "metadata": {
        "id": "NR_h6CoiE7DI"
      },
      "outputs": [],
      "source": [
        "x = 5\n",
        "y = 5.8\n",
        "\n",
        "print(type(x))\n",
        "print(type(y))"
      ]
    },
    {
      "cell_type": "markdown",
      "metadata": {
        "id": "KFOsRZ-cGnbR"
      },
      "source": [
        "It is easy to convert from one data type to the other. However, note that converting from `float` to `int` **truncates** the decimal value instead of rounding it."
      ]
    },
    {
      "cell_type": "code",
      "execution_count": null,
      "metadata": {
        "id": "zVUXfnWrHQPb"
      },
      "outputs": [],
      "source": [
        "print(float(x))\n",
        "print(int(y))\n",
        "y = int(y)"
      ]
    },
    {
      "cell_type": "markdown",
      "metadata": {
        "id": "eMiS83ezH2SO"
      },
      "source": [
        "**None** type\n",
        "\n",
        "Python has a special `None` data type to indicate that the variable exists but has not been assigned to a particular value.\n",
        "\n",
        "This is different from `NaN` types and other missing values in a dataset."
      ]
    },
    {
      "cell_type": "code",
      "execution_count": null,
      "metadata": {
        "id": "MOGceOuwPDJY"
      },
      "outputs": [],
      "source": [
        "x = None\n",
        "print(x)\n",
        "print(type(x))"
      ]
    },
    {
      "cell_type": "markdown",
      "metadata": {
        "id": "2ay3O5S6P9s5"
      },
      "source": [
        "#### Boolean Types\n",
        "\n",
        "Boolean values can take either `True` or `False` values. Note, that this is case-sensitive."
      ]
    },
    {
      "cell_type": "code",
      "execution_count": null,
      "metadata": {
        "id": "HWM9ZHIsQctI"
      },
      "outputs": [],
      "source": [
        "x = True\n",
        "print(type(x))\n",
        "\n",
        "# We can also evaluate a Boolean variable using the is command\n",
        "y = False\n",
        "print(y is False)"
      ]
    },
    {
      "cell_type": "code",
      "execution_count": null,
      "metadata": {
        "id": "nwbI15ZF26WU"
      },
      "outputs": [],
      "source": [
        "a = False"
      ]
    },
    {
      "cell_type": "markdown",
      "metadata": {
        "id": "Ps7TwE79R4wy"
      },
      "source": [
        "**Note:** Evaluating the state of a Boolean variable is not the same as assigning a Boolean value to it.\n",
        "\n",
        "While most values evaluate to `True`, variables set to `None`, `0`, `0.0`, or empty are evaluated as `False`"
      ]
    },
    {
      "cell_type": "code",
      "execution_count": null,
      "metadata": {
        "id": "1Xuryvj3TQ_p"
      },
      "outputs": [],
      "source": [
        "x = 3\n",
        "\n",
        "# This evaluates whether x exists and has a non-False value\n",
        "if x:\n",
        "  print('The value of x is '+str(x))"
      ]
    },
    {
      "cell_type": "code",
      "execution_count": null,
      "metadata": {
        "id": "7kn1rhZ3TunJ"
      },
      "outputs": [],
      "source": [
        "y = 0\n",
        "\n",
        "# This won't print anything as the if condition evaluates as False, even though y exists\n",
        "if y:\n",
        "  print('The value of y is '+str(y))"
      ]
    },
    {
      "cell_type": "code",
      "execution_count": null,
      "metadata": {
        "id": "QhggH7CsUU9b"
      },
      "outputs": [],
      "source": [
        "x = 3\n",
        "# This will output False as the value of x is not Boolean\n",
        "\n",
        "x is True"
      ]
    },
    {
      "cell_type": "markdown",
      "metadata": {
        "id": "jFiBcf6LVF-S"
      },
      "source": [
        "#### String type\n",
        "\n",
        "In Python, alphanumeric data is treated as a `str` type. Values can be assigned by enclosing it within single `'` or double `\"` quotes.\n",
        "\n",
        "Numeric types can be converted into string type. As long as a string variable contains only numeric characters, it can also be converted into numeric types."
      ]
    },
    {
      "cell_type": "code",
      "execution_count": null,
      "metadata": {
        "id": "9QItqH9UWEUK"
      },
      "outputs": [],
      "source": [
        "mystring1 = 'hello'\n",
        "mystring2 = '3'\n",
        "\n",
        "print(float(mystring2))\n",
        "\n",
        "# We can also explicitly convert most data or object types into string using str()\n",
        "print(\"The data type for mystring1, \"+mystring1+\", is \"+str(type(mystring1)))\n"
      ]
    },
    {
      "cell_type": "markdown",
      "metadata": {
        "id": "B74ccGl2YRV6"
      },
      "source": [
        "Since the print function expects all the variables to be of the same type to execute any operation inside it, trying to join a string with non-string variables will throw up an error."
      ]
    },
    {
      "cell_type": "code",
      "execution_count": null,
      "metadata": {
        "id": "vxPYMes-Ytgk"
      },
      "outputs": [],
      "source": [
        "# Check if you can get the proper output by converting all the components inside print into a uniform data type\n",
        "x = 1\n",
        "\n",
        "print('The value of x is '+x+', and its data type is '+type(x))"
      ]
    },
    {
      "cell_type": "markdown",
      "metadata": {
        "id": "EWQ6I4bqabxK"
      },
      "source": [
        "#### Lists\n",
        "\n",
        "Python strings have some special properties, which are similar to `list` data type. They are both sequences and have indices for each element (each character in a string). A blank list can be created by assigning `[]` to a variable name. Elements inside a list are separated by commas.\n",
        "\n",
        "A Python `list` can be a sequence of anything. It can even have another list as an element! A list variable or object is also not tied to a specific data type.\n",
        "\n",
        "This is a key difference between standard NumPy arrays (and the general concept of arrays in other languages) and lists. Whereas arrays can only contain elements of a single data type, lists can contain elements of any data type."
      ]
    },
    {
      "cell_type": "code",
      "execution_count": null,
      "metadata": {
        "id": "xWEv6IUwdISx"
      },
      "outputs": [],
      "source": [
        "# Creating a blank list\n",
        "\n",
        "mylist1 = []\n",
        "print(mylist1)\n",
        "\n",
        "# Adding elements inside the list one at a time using append()\n",
        "\n",
        "mylist1.append(2)\n",
        "mylist1.append('hello')\n",
        "mylist1.append('world')\n",
        "mylist1.append([2,3,4]) # adding a list as an element\n",
        "print(mylist1)\n",
        "\n",
        "# Adding multiple elements at once using extend()\n",
        "\n",
        "mylist1.extend([3,'python','2'])\n",
        "print(mylist1)"
      ]
    },
    {
      "cell_type": "markdown",
      "metadata": {
        "id": "1ZetpmTJh_BY"
      },
      "source": [
        "**Indexing and slicing**\n",
        "\n",
        "Lists and strings can be manipulated using their index positions. Python indexing starts at `0` i.e. the first element in a list has an index position of 0.\n",
        "\n",
        "We can obtain the length of a list using the len() function."
      ]
    },
    {
      "cell_type": "code",
      "execution_count": null,
      "metadata": {
        "id": "daevVAuyi1p4"
      },
      "outputs": [],
      "source": [
        "mystring = 'Python is fun!'\n",
        "print(len(mystring))\n",
        "mylist = [1,1,2,3,5,8,13,21]\n",
        "print(len(mylist))\n",
        "\n",
        "# Printing the third letter of mystring, index 2\n",
        "print(mystring[2])\n",
        "\n",
        "# To start the indexing from the last element, we use -1\n",
        "print(mylist[-1])"
      ]
    },
    {
      "cell_type": "code",
      "execution_count": null,
      "metadata": {
        "id": "cyXlMs1rkOKF"
      },
      "outputs": [],
      "source": [
        "# To obtain a slice of a list, we separate the starting and ending index by the : operator\n",
        "# Note that the element at the ending index is not included in the slice\n",
        "\n",
        "print(mystring[1:5]) # This will print from the 2nd to the 5th character\n",
        "\n",
        "print(mylist[:4]) # This will print till the 4th element"
      ]
    },
    {
      "cell_type": "code",
      "execution_count": null,
      "metadata": {
        "id": "8Zacc1MwnnHt"
      },
      "outputs": [],
      "source": [
        "# We can also obtain list elements at specific intervals by including an additional step size parameter\n",
        "\n",
        "print(mylist[0:6:2]) # This will print every alternate element from the first to the sixth index position\n",
        "\n",
        "# This is also a good method for reversing a string\n",
        "\n",
        "print(mystring[14:6:-1])"
      ]
    },
    {
      "cell_type": "code",
      "execution_count": null,
      "metadata": {
        "id": "4v6CLAEbp0HN"
      },
      "outputs": [],
      "source": [
        "# To delete elements from a list, we use the del command\n",
        "# Note that this method does not work for strings\n",
        "\n",
        "print(mylist)\n",
        "del mylist[7] # This will remove the last element from the list\n",
        "print(mylist)"
      ]
    },
    {
      "cell_type": "markdown",
      "metadata": {
        "id": "MO_e8OavrVcF"
      },
      "source": [
        "***Advanced tip:*** Python includes a `set` data type which can only contain unique elements. It is immutable i.e. cannot add or remove elements from it. The order of elements are not maintained either. However, there is one particular use case where it is quite useful - removing duplicate elements from a list. This works particularly well in cases where the only consideration is having a list of sorted unique values."
      ]
    },
    {
      "cell_type": "code",
      "execution_count": null,
      "metadata": {
        "id": "IsReY4TBtfEA"
      },
      "outputs": [],
      "source": [
        "mylist = [1,1,2,3,5,8,13,21]\n",
        "print(mylist)\n",
        "mylist = set(mylist) # converting mylist into a set\n",
        "print(mylist)\n",
        "mylist = list(mylist) # converting it back into a list\n",
        "print(mylist)\n",
        "mylist.sort() # sorting the list in ascending order\n",
        "print(mylist)\n",
        "\n",
        "# The functions can all be chained together\n",
        "# mylist = [1,1,2,3,5,8,13,21]\n",
        "# mylist = list(set(mylist))\n",
        "# print(mylist)"
      ]
    },
    {
      "cell_type": "markdown",
      "metadata": {
        "id": "j48vsfEKvm3x"
      },
      "source": [
        "#### Dictionaries\n",
        "\n",
        "The `dict` data type is a collection of unordered **key-value** pairs.\n",
        "\n",
        "Note that both `set` and `dict` types are created by enclosing elements within `{}`. The difference is that elements in a dictionary are in the form of `key:value` pairs."
      ]
    },
    {
      "cell_type": "code",
      "execution_count": null,
      "metadata": {
        "id": "5AciaO31pxxy"
      },
      "outputs": [],
      "source": [
        "# car_dict: make being ford, model being muystang, year being 2023\n",
        "car_dict = {'make':'ford','model':'mustang','year':2023}\n",
        "\n",
        "# list all keys\n",
        "print(car_dict.keys())\n",
        "\n",
        "# list all values\n",
        "print(car_dict.values())"
      ]
    },
    {
      "cell_type": "code",
      "execution_count": null,
      "metadata": {
        "id": "xhjwVuGlNcXV"
      },
      "outputs": [],
      "source": [
        "# We can check the associated value of any key like this\n",
        "car_dict['model']"
      ]
    },
    {
      "cell_type": "code",
      "execution_count": null,
      "metadata": {
        "id": "HYd03CY6OzY0"
      },
      "outputs": [],
      "source": [
        "# We can change the value for a key like this\n",
        "car_dict['model'] = 'f-150'\n",
        "car_dict"
      ]
    },
    {
      "cell_type": "code",
      "execution_count": null,
      "metadata": {
        "id": "nQXOzMXiPahy"
      },
      "outputs": [],
      "source": [
        "# We can also add another key-value pair\n",
        "car_dict['color'] = 'black'\n",
        "car_dict"
      ]
    },
    {
      "cell_type": "markdown",
      "metadata": {
        "id": "3lRdLrdkP16b"
      },
      "source": [
        "***Advanced tip:*** If there are 2 lists of the same length and we want to combine the elements as key value pairs, we use the `zip()` function in conjunction with `dict()`.\n",
        "\n",
        "This technique is particularly useful while creating a scraper. Moreover, the values for any key in the dictionary can be another list as well. In fact, as we'll see later, this forms the basic structure of a Pandas dataframe!"
      ]
    },
    {
      "cell_type": "code",
      "execution_count": null,
      "metadata": {
        "id": "r3FzoNNiRsLb"
      },
      "outputs": [],
      "source": [
        "# Suppose we have two lists called cols and vals\n",
        "cols = ['col1','col2','col3']\n",
        "vals = [9,7,5]\n",
        "\n",
        "# Zipping these 2 lists and converting into a dictionary\n",
        "\n",
        "mydict = dict(zip(cols,vals))\n",
        "mydict"
      ]
    },
    {
      "cell_type": "markdown",
      "metadata": {
        "id": "jGh3K1BlwNMS"
      },
      "source": [
        "#### Arithemetic operators\n",
        "\n",
        "Aside from the 4 basic mathematical operators, Python has an exponentiation `**` and modulus `%` operator. Additionally, it has a `//` floor division (integer division) operator as well."
      ]
    },
    {
      "cell_type": "code",
      "execution_count": null,
      "metadata": {
        "id": "ClXxkuYLwTRb"
      },
      "outputs": [],
      "source": [
        "x = 2\n",
        "y = 3\n",
        "\n",
        "print(y/x)  #Normal division\n",
        "print(y//x) #Floor division\n",
        "print(y%x)  #Modulus\n",
        "print(y**x) #Exponentiation"
      ]
    },
    {
      "cell_type": "markdown",
      "metadata": {
        "id": "_9AO4FjpYhLc"
      },
      "source": [
        "#### Assignment and comparison operators"
      ]
    },
    {
      "cell_type": "code",
      "execution_count": null,
      "metadata": {
        "id": "IJbg11XnYvEX"
      },
      "outputs": [],
      "source": [
        "# Standard assignment using =\n",
        "x = 2\n",
        "y = 3\n",
        "print(x,y)\n",
        "\n",
        "# Updating an existing variable\n",
        "y = y+x\n",
        "print(x,y)\n",
        "\n",
        "# There is a shortcut of this expression\n",
        "y+=x\n",
        "print(x,y)\n",
        "\n",
        "# This assignment shortcut can be used for other arithmetic operators as well\n",
        "\n",
        "# Python 3.8 and later has support for an additional operator :=\n",
        "# The walrus operator assigns a value as part of a larger expression\n",
        "\n",
        "a = 3\n",
        "print(a)\n",
        "if ((a:=5) > 3):\n",
        "  print(a)"
      ]
    },
    {
      "cell_type": "code",
      "execution_count": null,
      "metadata": {
        "id": "468Fto6IZ166"
      },
      "outputs": [],
      "source": [
        "# Using comparison operators return True or False values\n",
        "x,y = 2,3\n",
        "\n",
        "print(x==y) #Checks whether x is equal to y\n",
        "print(x!=y) #Checks whether x is not equal to y\n",
        "print(x<y)  #Checks whether x is less than y\n",
        "print(x>y)  #Checks whether x is greater than y\n",
        "print(x<=y) #Checks whether x is less than or equals y\n",
        "print(x>=y) #Checks whether x is greater than or equals y"
      ]
    },
    {
      "cell_type": "markdown",
      "metadata": {
        "id": "rE0PDBP2wWeu"
      },
      "source": [
        "#### Logical operators"
      ]
    },
    {
      "cell_type": "code",
      "execution_count": null,
      "metadata": {
        "id": "GGWO56D9wcRo"
      },
      "outputs": [],
      "source": [
        "# We can evaluate logical comparisons using 3 Boolean operators\n",
        "\n",
        "x,y = True,False\n",
        "\n",
        "print(x or y)   #The OR operator\n",
        "print(x and y)  #The AND operator\n",
        "print(not x)    #The NOT operator"
      ]
    },
    {
      "cell_type": "markdown",
      "metadata": {
        "id": "BPTzgiq3qRZx"
      },
      "source": [
        "### Control Flow"
      ]
    },
    {
      "cell_type": "markdown",
      "metadata": {
        "id": "aUfL6XKQQQqD"
      },
      "source": [
        "#### Conditional Statements\n",
        "\n",
        "While Python usually runs line by line, it may be necessary to skip certain lines based on some preset condition.\n",
        "\n",
        "Like any other languages, Python has the **if-else** conditional statements."
      ]
    },
    {
      "cell_type": "code",
      "execution_count": null,
      "metadata": {
        "id": "97_uSnbFd9xD"
      },
      "outputs": [],
      "source": [
        "age = 19\n",
        "\n",
        "# Note the indentation for each block\n",
        "\n",
        "if age < 18:\n",
        "  print('junior')\n",
        "else:\n",
        "  print('adult')\n",
        "\n",
        "# Python does not require an else condition to execute if statements\n",
        "# Try changing the age and commenting out the else block to see what happens!"
      ]
    },
    {
      "cell_type": "code",
      "execution_count": null,
      "metadata": {
        "id": "01b__ixgqWDq"
      },
      "outputs": [],
      "source": [
        "# We can create a sequence of conditions like a ladder\n",
        "# Using the elif (else-if) statement after the first if condition evaluates it only when the initial condition is not satisfied\n",
        "\n",
        "age = 45\n",
        "\n",
        "if age < 18:\n",
        "    print('junior')\n",
        "elif age < 50:\n",
        "    print('middle-age')\n",
        "else:\n",
        "    print('elder')"
      ]
    },
    {
      "cell_type": "code",
      "execution_count": null,
      "metadata": {
        "id": "B0qo13ZWfiAm"
      },
      "outputs": [],
      "source": [
        "# For the above case we can use if instead of elif as well\n",
        "# The difference is that every if condition is evaluated\n",
        "# But the output will be the same in this case\n",
        "\n",
        "age = 45\n",
        "\n",
        "if age < 18:\n",
        "    print('junior')\n",
        "if age < 50:\n",
        "    print('middle-age')\n",
        "else:\n",
        "    print('elder')"
      ]
    },
    {
      "cell_type": "code",
      "execution_count": null,
      "metadata": {
        "id": "n2ip-CoEgTEL"
      },
      "outputs": [],
      "source": [
        "# If multiple conditions are not mutually exclusive, using if conditions will evaluate all of them\n",
        "\n",
        "age = 45\n",
        "\n",
        "if age < 18:\n",
        "    print('junior')\n",
        "if age >= 18:\n",
        "    print('adult')\n",
        "if age < 50:\n",
        "    print('middle-age')\n",
        "else:\n",
        "    print('elder')\n",
        "\n",
        "# So using elif vs if for multiple conditions depends on your specific requirement"
      ]
    },
    {
      "cell_type": "code",
      "execution_count": null,
      "metadata": {
        "id": "pmMa6H4hhOe_"
      },
      "outputs": [],
      "source": [
        "# We can also use nested if statements\n",
        "# Again, notice the indentation\n",
        "\n",
        "x,y = 4,10\n",
        "\n",
        "if(x>=5):\n",
        "    if(y!=10):\n",
        "        print (\"option A\")\n",
        "    else:\n",
        "        print (\"option B\")\n",
        "else:\n",
        "    if(y<11):\n",
        "        print (\"option C\")\n",
        "    else:\n",
        "        print (\"option D\")\n",
        "\n",
        "# Try changing the values of x and y to see what happens"
      ]
    },
    {
      "cell_type": "markdown",
      "metadata": {
        "id": "rRJTFkmvQgGY"
      },
      "source": [
        "match-case (Python 3.10 and later)\n",
        "\n",
        "The match case statement is fairly new in Python. This is similar to Java's switch-case statement. However, match-case is more versatile as it allows for complex pattern matching instead of just a single value for the case statements."
      ]
    },
    {
      "cell_type": "code",
      "execution_count": null,
      "metadata": {
        "id": "ATWi3ZXJQnf1"
      },
      "outputs": [],
      "source": [
        "age = 40\n",
        "\n",
        "# The pattern to be matched\n",
        "match age:\n",
        "\n",
        "  #Pattern 1, just a single value\n",
        "  case 18:\n",
        "    print('adult')\n",
        "\n",
        "  #Pattern 2 and 3, evaluating the value within the case statement\n",
        "  case age if age < 18:\n",
        "    print('junior')\n",
        "  case age if age >= 18:\n",
        "    print('adult')\n",
        "\n",
        "  #Default pattern\n",
        "  case _:\n",
        "    print('No match')"
      ]
    },
    {
      "cell_type": "markdown",
      "metadata": {
        "id": "uTtcuYwJ_IsF"
      },
      "source": [
        "#### Loops\n",
        "\n",
        "We often need to execute a set of commands/operations repeatedly. Instead of writing out the same set of code multiple times, we can encapsulate the piece of code within a looping code block.\n",
        "\n",
        "There are 2 types of loops in Python.\n",
        "\n",
        "The `for` loop is used when the number of iterations is predetermined and fixed before the looping block is executed. The loop ends when the last iteration is completed.\n",
        "\n",
        "The `while` loop is used when the number of iterations is not predetermined. The loop ends when a specific condition is met. Hence, the number of iterations is not fixed."
      ]
    },
    {
      "cell_type": "code",
      "execution_count": null,
      "metadata": {
        "id": "mCD89mMa_IPx"
      },
      "outputs": [],
      "source": [
        "a_num = [2,4,6,2,8,2,6,7,3,1]\n",
        "\n",
        "for i in a:\n",
        "  print(i)\n",
        "\n",
        "for i in range(10):\n",
        "  print(i)"
      ]
    },
    {
      "cell_type": "code",
      "execution_count": null,
      "metadata": {
        "id": "G3ps9A8k_SIC"
      },
      "outputs": [],
      "source": [
        "c = 0\n",
        "while c<len(a_num):\n",
        "  print(a_num[c])\n",
        "  c+=1\n",
        "\n",
        "\n",
        "# Sometimes it may be necessary to enter the loop at least once and check the\n",
        "# exit condition at the very end instead of the beginning\n",
        "c = 0\n",
        "while True:\n",
        "  print(a_num[c])\n",
        "  c+=1\n",
        "  if c>=len(a_num): break"
      ]
    },
    {
      "cell_type": "markdown",
      "metadata": {
        "id": "xeplEyMQqWsr"
      },
      "source": [
        "### Intro to Pandas library\n",
        "\n",
        "A majority of data analysis in Python will involve the use of the Pandas library. It provides similar functionalities to R dataframes."
      ]
    },
    {
      "cell_type": "code",
      "execution_count": null,
      "metadata": {
        "id": "GXRG6POtqaIU"
      },
      "outputs": [],
      "source": [
        "# The import statement is used to load a module in Python\n",
        "# A package usually consists of multiple modules\n",
        "# All packages are modules, but not all modules are packages\n",
        "\n",
        "import pandas as pd\n",
        "import numpy as np\n",
        "\n",
        "# Using the as statement, we create an alias for pandas and numpy\n",
        "# So every time we use a sub-module or function from pandas, we type pd.func() instead of pandas.func()\n",
        "\n",
        "# We can also load specific modules from within a package using from statement\n",
        "from pandas import json_normalize\n",
        "# json_normalize is a specific module within the Pandas library used for flattening JSON data"
      ]
    },
    {
      "cell_type": "markdown",
      "metadata": {
        "id": "gdAr6B9XsMeE"
      },
      "source": [
        "#### Creating Dataframes\n",
        "\n",
        "There are several ways of creating a dataframe. The function for creating a new dataframe is `pd.DataFrame()`'. We can either create a blank dataframe or include some existing data. Some common methods are shown below."
      ]
    },
    {
      "cell_type": "code",
      "execution_count": null,
      "metadata": {
        "id": "jbpsytdysZmC"
      },
      "outputs": [],
      "source": [
        "# Specify each column\n",
        "\n",
        "df = pd.DataFrame({\"Column1\":[1,2,3],\"Column2\":[4,5,6],\"Column3\":[7,8,9]})\n",
        "print(df)"
      ]
    },
    {
      "cell_type": "code",
      "execution_count": null,
      "metadata": {
        "id": "8T7uU4m1s_BJ"
      },
      "outputs": [],
      "source": [
        "# If we have a data matrix (i.e., np.array object), it can directly create a df out of it.\n",
        "\n",
        "data_mat = np.array([['a','b','c'],[1,2,3],[1960,1979,2009]])\n",
        "df = pd.DataFrame(data_mat,columns = ['Column1','Column2','Column3'])\n",
        "print(df)\n",
        "\n",
        "# If we want a different indexing, that can be specified as well\n",
        "# df = pd.DataFrame(data_mat, index = ['id1','id2','id3'], columns = ['Column1','Column2','Column3'])"
      ]
    },
    {
      "cell_type": "code",
      "execution_count": null,
      "metadata": {
        "id": "n3IKii9Tt23R"
      },
      "outputs": [],
      "source": [
        "# We can also use a dictionary to create a new df\n",
        "\n",
        "mydict = {'Column1':[1,2,3], 'Column2':[333,444,555]}\n",
        "df = pd.DataFrame(mydict) # use the index argument for custom indexing\n",
        "print(df)"
      ]
    },
    {
      "cell_type": "code",
      "execution_count": null,
      "metadata": {
        "id": "fLGchx5OuWNz"
      },
      "outputs": [],
      "source": [
        "# Yet another method is by adding different columns from lists\n",
        "\n",
        "df = pd.DataFrame() #Create an empty df\n",
        "c1 = [1,2,3]\n",
        "c2 = [2,4,6]\n",
        "\n",
        "df['Column4'] = c1\n",
        "df['Column6'] = c2\n",
        "\n",
        "print(df)\n",
        "\n",
        "# This method is useful for appending a list that is obtained from a complex function and appending it to an existing df"
      ]
    },
    {
      "cell_type": "markdown",
      "metadata": {
        "id": "sE9jnNKYqe5S"
      },
      "source": [
        "#### Importing Data\n",
        "\n",
        "Pandas can import datasets from most common data file formats. It can also import data from HTML tables, Latex, and SQL databases. The function for importing data from a particular type is usually prefixed by `pd.read_*()`. For a list of supported formats and associated import functions, refer to the [documentation here](https://pandas.pydata.org/docs/reference/io.html#)."
      ]
    },
    {
      "cell_type": "code",
      "execution_count": null,
      "metadata": {
        "id": "bjSwN4OkqqLX"
      },
      "outputs": [],
      "source": [
        "# We import the GSS2018.csv dataset into a df called my_data\n",
        "\n",
        "my_data = pd.read_csv('/gdrive/MyDrive/Colab Notebooks/pyworkshop/GSS2018.csv')\n",
        "# If the file is located in a sub-folder, change the path accordingly\n",
        "\n",
        "\n",
        "# pd.read_excel('excel.xlsx')\n",
        "# pd.read_spss('file.sav')\n",
        "# pd.read_stata('table.dta')\n",
        "# pd.read_sas('table.sas7bdat')"
      ]
    },
    {
      "cell_type": "code",
      "execution_count": null,
      "metadata": {
        "id": "vDJDPNem1rSV"
      },
      "outputs": [],
      "source": [
        "# Let's look at the first 10 rows of the dataframe\n",
        "# my_data.head(10) #If no n is specified, the default is 5 rows\n",
        "\n",
        "# For the last 5 rows\n",
        "my_data.tail()"
      ]
    },
    {
      "cell_type": "code",
      "execution_count": null,
      "metadata": {
        "id": "XKYf3hw-2VkL"
      },
      "outputs": [],
      "source": [
        "# Colab has some additional functionalities that are not normally available on a standard Jupyter notebook\n",
        "# You can see that not all the columns are displayed\n",
        "# We can modify the behavior of Pandas such that all the columns are displayed\n",
        "pd.set_option('display.max_columns', None)\n",
        "# Note that setting this option will fix the state for the duration of the session\n",
        "my_data.head(10)"
      ]
    },
    {
      "cell_type": "code",
      "execution_count": null,
      "metadata": {
        "id": "o97pFPzq4LAT"
      },
      "outputs": [],
      "source": [
        "# To check the length of the dataset\n",
        "print(len(my_data))\n",
        "\n",
        "# To check the number of rows and columns\n",
        "print(my_data.shape) #Note that df.shape is not a function and is a tuple object"
      ]
    },
    {
      "cell_type": "code",
      "execution_count": null,
      "metadata": {
        "id": "lFGKOvY14zDk"
      },
      "outputs": [],
      "source": [
        "# To print a list of column names\n",
        "print(list(my_data.columns))\n",
        "\n",
        "# To check the data type for each column\n",
        "print(my_data.dtypes)"
      ]
    },
    {
      "cell_type": "code",
      "execution_count": null,
      "metadata": {
        "id": "ZJHdqpCl5-b_"
      },
      "outputs": [],
      "source": [
        "# To view a single column\n",
        "my_data['age']  #Uses a dict notation"
      ]
    },
    {
      "cell_type": "code",
      "execution_count": null,
      "metadata": {
        "id": "SDS__VmA9Xd8"
      },
      "outputs": [],
      "source": [
        "# To view more than one columns\n",
        "my_data[['age','degree']]"
      ]
    },
    {
      "cell_type": "markdown",
      "metadata": {
        "id": "TO9s7wF-qq-M"
      },
      "source": [
        "#### Descriptive Statistics"
      ]
    },
    {
      "cell_type": "code",
      "execution_count": null,
      "metadata": {
        "id": "QKX_ZNbhqxQy"
      },
      "outputs": [],
      "source": [
        "# We can obtain the count, mean, SD, quartiles, and range for all columns\n",
        "my_data.describe()"
      ]
    },
    {
      "cell_type": "code",
      "execution_count": null,
      "metadata": {
        "id": "i_cXaP-N-H10"
      },
      "outputs": [],
      "source": [
        "# For a single variable/column\n",
        "my_data['age'].describe()"
      ]
    },
    {
      "cell_type": "code",
      "execution_count": null,
      "metadata": {
        "id": "YX0gAnza-m3T"
      },
      "outputs": [],
      "source": [
        "# We can also get the stats separately\n",
        "my_data['age'].mean()"
      ]
    },
    {
      "cell_type": "code",
      "execution_count": null,
      "metadata": {
        "id": "If6mE8Lm-y4G"
      },
      "outputs": [],
      "source": [
        "my_data['age'].median()"
      ]
    },
    {
      "cell_type": "code",
      "execution_count": null,
      "metadata": {
        "id": "CiGALfNP-3bU"
      },
      "outputs": [],
      "source": [
        "my_data['wrkstat'].count()"
      ]
    },
    {
      "cell_type": "code",
      "execution_count": null,
      "metadata": {
        "id": "t9AQbo9D--lG"
      },
      "outputs": [],
      "source": [
        "# Frequency\n",
        "my_data['wrkstat'].value_counts()"
      ]
    },
    {
      "cell_type": "code",
      "execution_count": null,
      "metadata": {
        "id": "S7YC8IpT_wrs"
      },
      "outputs": [],
      "source": [
        "# For a simple histogram\n",
        "my_data['degree'].hist()"
      ]
    },
    {
      "cell_type": "code",
      "execution_count": null,
      "metadata": {
        "id": "ea8gjBhV_JWq"
      },
      "outputs": [],
      "source": [
        "# Standard Deviation\n",
        "my_data['age'].std()"
      ]
    },
    {
      "cell_type": "code",
      "execution_count": null,
      "metadata": {
        "id": "NxtPiWwN_a-Y"
      },
      "outputs": [],
      "source": [
        "# Variance\n",
        "my_data['age'].var()"
      ]
    },
    {
      "cell_type": "code",
      "execution_count": null,
      "metadata": {
        "id": "2DqyA5cem_G7"
      },
      "outputs": [],
      "source": [
        "# Compute the descriptive statistics of the wordsum variable.\n",
        "\n"
      ]
    },
    {
      "cell_type": "code",
      "execution_count": null,
      "metadata": {
        "id": "0BzkqglinIFa"
      },
      "outputs": [],
      "source": [
        "# Obtain the frequencies of each gender(sex)\n",
        "\n"
      ]
    },
    {
      "cell_type": "markdown",
      "metadata": {
        "id": "MBMqXpJqqyRy"
      },
      "source": [
        "#### Multivariate Table"
      ]
    },
    {
      "cell_type": "code",
      "execution_count": null,
      "metadata": {
        "id": "l7XcMHYaq37m"
      },
      "outputs": [],
      "source": [
        "# To get a crosstab\n",
        "my_cross_tab = pd.crosstab(my_data['degree'],my_data['marital'])"
      ]
    },
    {
      "cell_type": "code",
      "execution_count": null,
      "metadata": {
        "id": "vh_PEd1jKbQ7"
      },
      "outputs": [],
      "source": [
        "my_cross_tab"
      ]
    },
    {
      "cell_type": "code",
      "execution_count": null,
      "metadata": {
        "id": "_X-Uih1DnXKJ"
      },
      "outputs": [],
      "source": [
        "# Do a cross-tabulation of sex and wrkstat\n",
        "\n"
      ]
    },
    {
      "cell_type": "markdown",
      "metadata": {
        "id": "ljEV0-VeK-zH"
      },
      "source": [
        "### Extras"
      ]
    },
    {
      "cell_type": "markdown",
      "metadata": {
        "id": "sTWs9iHXLVNd"
      },
      "source": [
        "#### Running R code in Jupyter notebooks\n",
        "\n",
        "You can execute some R code inside a Python-based notebook. It is also possible to use Python code inside R-based notebooks. However, this should be minimized as much as possible as the underlying data and object structures are quite different."
      ]
    },
    {
      "cell_type": "code",
      "execution_count": null,
      "metadata": {
        "id": "gF6VsyY1Li7l"
      },
      "outputs": [],
      "source": [
        "# Activate R magic\n",
        "%load_ext rpy2.ipython"
      ]
    },
    {
      "cell_type": "code",
      "execution_count": null,
      "metadata": {
        "id": "yWBlO99tM9r8"
      },
      "outputs": [],
      "source": [
        "%%R -i my_data\n",
        "\n",
        "print(summary(my_data$age))\n",
        "hist(my_data$degree)"
      ]
    },
    {
      "cell_type": "markdown",
      "metadata": {
        "id": "Nhwghp_bO9iR"
      },
      "source": [
        "#### The Zen of Python"
      ]
    },
    {
      "cell_type": "code",
      "execution_count": null,
      "metadata": {
        "id": "gPfzpqJrPCDa"
      },
      "outputs": [],
      "source": [
        "import this"
      ]
    }
  ],
  "metadata": {
    "colab": {
      "collapsed_sections": [
        "ljEV0-VeK-zH",
        "sTWs9iHXLVNd",
        "Nhwghp_bO9iR"
      ],
      "provenance": []
    },
    "kernelspec": {
      "display_name": "Python 3",
      "name": "python3"
    },
    "language_info": {
      "name": "python"
    }
  },
  "nbformat": 4,
  "nbformat_minor": 0
}
